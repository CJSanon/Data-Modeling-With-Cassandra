{
 "cells": [
  {
   "cell_type": "markdown",
   "metadata": {
    "editable": true
   },
   "source": [
    "# Part I. ETL Pipeline for Pre-Processing the Files"
   ]
  },
  {
   "cell_type": "markdown",
   "metadata": {
    "editable": true
   },
   "source": [
    "## PLEASE RUN THE FOLLOWING CODE FOR PRE-PROCESSING THE FILES"
   ]
  },
  {
   "cell_type": "markdown",
   "metadata": {
    "editable": true
   },
   "source": [
    "#### Import Python packages "
   ]
  },
  {
   "cell_type": "code",
   "execution_count": 1,
   "metadata": {
    "editable": true
   },
   "outputs": [],
   "source": [
    "# Import Python packages \n",
    "import pandas as pd\n",
    "import cassandra\n",
    "import re\n",
    "import os\n",
    "import glob\n",
    "import numpy as np\n",
    "import json\n",
    "import csv"
   ]
  },
  {
   "cell_type": "code",
   "execution_count": 2,
   "metadata": {
    "editable": true
   },
   "outputs": [
    {
     "name": "stdout",
     "output_type": "stream",
     "text": [
      "/home/workspace\n"
     ]
    }
   ],
   "source": [
    "# checking the current working directory and gathering all csv files for etl\n",
    "print(os.getcwd())\n",
    "\n",
    "filepath = os.getcwd() + '/event_data'\n",
    "\n",
    "for root, dirs, files in os.walk(filepath):\n",
    "    if \".ipynb_checkpoints\" in root:\n",
    "        continue\n",
    "    else:\n",
    "        file_path_list = glob.glob(os.path.join(root,'*'))\n",
    "#         print(len(file_path_list))"
   ]
  },
  {
   "cell_type": "code",
   "execution_count": 3,
   "metadata": {
    "editable": true
   },
   "outputs": [],
   "source": [
    "# Reads all csv files in subfolder event_data and appends each row into csv file \n",
    "df = pd.concat([pd.read_csv(f) for f in file_path_list], ignore_index = True)\n",
    "df = df.dropna()\n",
    "\n",
    "csv_row = df.apply(\n",
    "    lambda row: [row['artist'], row['firstName'], row['gender'], row['itemInSession'], \n",
    "                 row['lastName'], row['length'], row['level'], row['location'], row['sessionId'],\n",
    "                row['song'], int(row['userId'])], axis=1, result_type='expand')\n",
    "\n",
    "# A list of all csv rows\n",
    "full_data_rows_list = csv_row.values.tolist()\n",
    "\n",
    "# Writes list of csv rows into dataframe with headers\n",
    "df = pd.DataFrame(full_data_rows_list, columns=['artist', 'firstName', 'gender', 'itemInSession', 'lastName',\n",
    "                                               'length', 'level', 'location', 'sessionId', 'song', 'userId'])\n",
    "# Writes dataframe to csv file\n",
    "df.to_csv('event_datafile_new.csv', index=False)"
   ]
  },
  {
   "cell_type": "code",
   "execution_count": 4,
   "metadata": {
    "editable": true
   },
   "outputs": [
    {
     "name": "stdout",
     "output_type": "stream",
     "text": [
      "6821\n"
     ]
    }
   ],
   "source": [
    "# checks the number of rows in the csv file containing all rows\n",
    "with open('event_datafile_new.csv', 'r', encoding = 'utf8') as f:\n",
    "    print(sum(1 for line in f))"
   ]
  },
  {
   "cell_type": "code",
   "execution_count": 5,
   "metadata": {
    "editable": true
   },
   "outputs": [],
   "source": [
    "# Creating a connection to Cassandra on 127.0.0.1, port 9042 (default)\n",
    "from cassandra.cluster import Cluster\n",
    "cluster = Cluster()\n",
    "\n",
    "# Create a session to execute queries\n",
    "session = cluster.connect()"
   ]
  },
  {
   "cell_type": "code",
   "execution_count": 6,
   "metadata": {
    "editable": true
   },
   "outputs": [],
   "source": [
    "# Creates an idempotent Keyspace \n",
    "try:\n",
    "    session.execute(\"\"\"DROP KEYSPACE IF EXISTS user_plays\"\"\")\n",
    "except Exception as e:\n",
    "    print(e)\n",
    "    \n",
    "try:\n",
    "    session.execute(\"\"\"\n",
    "    CREATE KEYSPACE IF NOT EXISTS user_plays\n",
    "    WITH REPLICATION = \n",
    "    {'class': 'SimpleStrategy', 'replication_factor' : 1 }\"\"\")\n",
    "    \n",
    "except Exception as e:\n",
    "        print(e)"
   ]
  },
  {
   "cell_type": "code",
   "execution_count": 7,
   "metadata": {
    "editable": true
   },
   "outputs": [],
   "source": [
    "# Set KEYSPACE to user_plays specified above\n",
    "try:\n",
    "    session.set_keyspace('user_plays')\n",
    "except Exception as e:\n",
    "    print(e)"
   ]
  },
  {
   "cell_type": "code",
   "execution_count": 8,
   "metadata": {
    "editable": true
   },
   "outputs": [
    {
     "name": "stdout",
     "output_type": "stream",
     "text": [
      "Error from server: code=2200 [Invalid query] message=\"unconfigured table filter_by_session_id_and_item_in_session\"\n"
     ]
    }
   ],
   "source": [
    "# Query 1 Description:  In this query, session_id and item_in_session are assigned as a composite partition key and uniquely identify each column\n",
    "query = \"drop table filter_by_session_id_and_item_in_session\"\n",
    "try:\n",
    "    rows = session.execute(query)\n",
    "except Exception as e:\n",
    "    print(e)\n",
    "\n",
    "# Create partition key of session_id and item_in_session; no data sorted within the partition\n",
    "query = \"CREATE TABLE IF NOT EXISTS filter_by_session_id_and_item_in_session \"\n",
    "query = query + \"(session_id int, item_in_session int, artist text, song text, length float, PRIMARY KEY ((session_id, item_in_session)))\"\n",
    "\n",
    "try:\n",
    "    session.execute(query)\n",
    "except Exception as e:\n",
    "    print(e)      "
   ]
  },
  {
   "cell_type": "code",
   "execution_count": 9,
   "metadata": {
    "editable": true
   },
   "outputs": [],
   "source": [
    "# Reads our denormalized CSV file and inserts it into Cassandra table\n",
    "file = 'event_datafile_new.csv'\n",
    "df = pd.read_csv(file)\n",
    "\n",
    "query = \"INSERT INTO filter_by_session_id_and_item_in_session(session_id, item_in_session, artist, song, length) \"\n",
    "query = query + \"VALUES(%s, %s, %s, %s, %s)\"\n",
    "\n",
    "insert_rows_into_cassandra = df.apply(lambda x: session.execute(query, (x.sessionId, x.itemInSession, x.artist, x.song, x.length)), axis=1)"
   ]
  },
  {
   "cell_type": "code",
   "execution_count": 10,
   "metadata": {
    "editable": true,
    "scrolled": true
   },
   "outputs": [
    {
     "name": "stdout",
     "output_type": "stream",
     "text": [
      "Faithless Music Matters (Mark Knight Dub) 495.30731201171875\n"
     ]
    }
   ],
   "source": [
    "# Composite partition key of session_id and item_in_session used to find unique row\n",
    "query = \"select artist, song, length from filter_by_session_id_and_item_in_session WHERE SESSION_ID=338 AND ITEM_IN_SESSION=4\"\n",
    "try:\n",
    "    rows = session.execute(query)\n",
    "except Exception as e:\n",
    "    print(e)\n",
    "    \n",
    "for row in rows:\n",
    "    print (row.artist, row.song, row.length)"
   ]
  },
  {
   "cell_type": "code",
   "execution_count": 11,
   "metadata": {
    "editable": true
   },
   "outputs": [],
   "source": [
    "# Query 2 Description: In this query, the composite partition key is user_id and session_id and the clustering column is item_in_session \\\n",
    "# filtering on user_id and session_id and sorting by item_in_session uniqely identifies the rows for the given ids \n",
    "query = \"drop table if exists filter_by_user_id_and_session_id\"\n",
    "\n",
    "try:\n",
    "    session.execute(query)\n",
    "except Exception as e:\n",
    "    print(e)\n",
    "\n",
    "# Create composite partition on user_id and session_id; partitions then sorted by item_in_session to create a composite primary key\n",
    "query = \"CREATE TABLE IF NOT EXISTS filter_by_user_id_and_session_id \"\n",
    "query = query + \"(user_id int, session_id int, item_in_session int, artist text, song text, first_name text, last_name text, PRIMARY KEY ((user_id, session_id), item_in_session))\"\n",
    "\n",
    "try:\n",
    "    session.execute(query)\n",
    "except Exception as e:\n",
    "    print(e)    "
   ]
  },
  {
   "cell_type": "code",
   "execution_count": 12,
   "metadata": {
    "editable": true
   },
   "outputs": [],
   "source": [
    "# Reads our denormalized CSV file and inserts it into Cassandra table\n",
    "file = 'event_datafile_new.csv'\n",
    "\n",
    "# Add dataframe rows to Cassandra table\n",
    "df = pd.read_csv(file)\n",
    "query = \"INSERT INTO filter_by_user_id_and_session_id(user_id, session_id, item_in_session, artist, song, first_name, last_name) \"\n",
    "query = query + \"VALUES(%s, %s, %s, %s, %s, %s, %s)\"\n",
    "\n",
    "insert_rows_into_cassandra = df.apply(lambda x: session.execute(query, (int(x.userId), x.sessionId, x.itemInSession, x.artist, x.song, x.firstName, x.lastName)), axis=1)"
   ]
  },
  {
   "cell_type": "code",
   "execution_count": 13,
   "metadata": {
    "editable": true
   },
   "outputs": [
    {
     "name": "stdout",
     "output_type": "stream",
     "text": [
      "Down To The Bone Keep On Keepin' On Sylvie Cruz\n",
      "Three Drives Greece 2000 Sylvie Cruz\n",
      "Sebastien Tellier Kilometer Sylvie Cruz\n",
      "Lonnie Gordon Catch You Baby (Steve Pitron & Max Sanna Radio Edit) Sylvie Cruz\n"
     ]
    }
   ],
   "source": [
    "# Returns artist name, song name, first name of user and last name of user on composite partition key of user_id and session_id\n",
    "query = \"select artist, song, first_name, last_name from filter_by_user_id_and_session_id WHERE user_id=10 AND session_id=182\"\n",
    "try:\n",
    "    rows = session.execute(query)\n",
    "except Exception as e:\n",
    "    print(e)\n",
    "    \n",
    "for row in rows:         \n",
    "    print (row.artist, row.song, row.first_name, row.last_name)"
   ]
  },
  {
   "cell_type": "code",
   "execution_count": 14,
   "metadata": {
    "editable": true
   },
   "outputs": [],
   "source": [
    "# Query 3 Description: In this query the partition key is song and the clustering column is user_id. Each partition is uniquely identified by song'\n",
    "# Drop makes this table idempotent\n",
    "query = \"DROP TABLE IF EXISTS filter_by_song\"\n",
    "try:\n",
    "    session.execute(query)\n",
    "except Exception as e:\n",
    "    print(e)\n",
    "\n",
    "# Partitioning by song alone is fine, we can sort by user_id to make the primary key unique\n",
    "query = \"CREATE TABLE IF NOT EXISTS filter_by_song \"\n",
    "query = query + \"(song text, user_id int, first_name text, last_name text, PRIMARY KEY (song, user_id))\"\n",
    "\n",
    "\n",
    "try:\n",
    "    session.execute(query)\n",
    "except Exception as e:\n",
    "    print(e)        "
   ]
  },
  {
   "cell_type": "code",
   "execution_count": 15,
   "metadata": {
    "editable": true
   },
   "outputs": [],
   "source": [
    "# Reads each line of denormalized CSV file and inserts it into Cassandra table\n",
    "file = 'event_datafile_new.csv'\n",
    "df = pd.read_csv(file)\n",
    "\n",
    "query = \"INSERT INTO filter_by_song(song, user_id, first_name, last_name) \"\n",
    "query = query + \"VALUES(%s, %s, %s, %s)\"\n",
    "\n",
    "insert_rows_into_cassandra = df.apply(lambda x: session.execute(query, (x.song, int(x.userId), x.firstName, x.lastName)), axis=1)"
   ]
  },
  {
   "cell_type": "code",
   "execution_count": 16,
   "metadata": {
    "editable": true
   },
   "outputs": [
    {
     "name": "stdout",
     "output_type": "stream",
     "text": [
      "Jacqueline Lynch\n",
      "Tegan Levine\n",
      "Sara Johnson\n"
     ]
    }
   ],
   "source": [
    "# Partition key of song name is sorted by user_id to give us unique rows which satisfy the query\n",
    "query = \"select first_name, last_name from filter_by_song WHERE song='All Hands Against His Own'\"\n",
    "try:\n",
    "    rows = session.execute(query)\n",
    "except Exception as e:\n",
    "    print(e)\n",
    "    \n",
    "# We only have one clustering column so we don't need to worry about putting results it in order\n",
    "for row in rows:         \n",
    "    print (row.first_name, row.last_name)"
   ]
  },
  {
   "cell_type": "code",
   "execution_count": 17,
   "metadata": {
    "editable": true
   },
   "outputs": [],
   "source": [
    "# Drop all tables\n",
    "query = \"drop table filter_by_session_id_and_item_in_session\"\n",
    "try:\n",
    "    rows = session.execute(query)\n",
    "except Exception as e:\n",
    "    print(e)\n",
    "    \n",
    "query = \"drop table filter_by_user_id_and_session_id\"\n",
    "try:\n",
    "    rows = session.execute(query)\n",
    "except Exception as e:\n",
    "    print(e)\n",
    "    \n",
    "query = \"drop table filter_by_song\"\n",
    "try:\n",
    "    rows = session.execute(query)\n",
    "except Exception as e:\n",
    "    print(e)\n"
   ]
  },
  {
   "cell_type": "code",
   "execution_count": 18,
   "metadata": {
    "editable": true
   },
   "outputs": [],
   "source": [
    "# Close the connection to database\n",
    "session.shutdown()\n",
    "cluster.shutdown()"
   ]
  }
 ],
 "metadata": {
  "kernelspec": {
   "display_name": "Python 3",
   "language": "python",
   "name": "python3"
  },
  "language_info": {
   "codemirror_mode": {
    "name": "ipython",
    "version": 3
   },
   "file_extension": ".py",
   "mimetype": "text/x-python",
   "name": "python",
   "nbconvert_exporter": "python",
   "pygments_lexer": "ipython3",
   "version": "3.6.3"
  }
 },
 "nbformat": 4,
 "nbformat_minor": 4
}
